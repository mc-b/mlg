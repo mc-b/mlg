{
 "cells": [
  {
   "cell_type": "markdown",
   "metadata": {},
   "source": [
    "Kubernetes Umgebung einrichten\n",
    "===========================\n",
    "\n",
    "Dazu brauchen wir zuerst das Kommandozeilentool (CLI) `kubectl`.\n",
    "\n",
    "Das downloaden wir von https://storage.googleapis.com "
   ]
  },
  {
   "cell_type": "code",
   "execution_count": null,
   "metadata": {},
   "outputs": [],
   "source": [
    "! curl -LO https://storage.googleapis.com/kubernetes-release/release/$(curl -s https://storage.googleapis.com/kubernetes-release/release/stable.txt)/bin/linux/amd64/kubectl\n",
    "! chmod +x kubectl    "
   ]
  },
  {
   "cell_type": "markdown",
   "metadata": {},
   "source": [
    "Zum Testen zeigen wir alle laufenden Pods (Container) an"
   ]
  },
  {
   "cell_type": "code",
   "execution_count": null,
   "metadata": {},
   "outputs": [],
   "source": [
    "! ./kubectl get pods -A "
   ]
  },
  {
   "cell_type": "markdown",
   "metadata": {},
   "source": [
    "***\n",
    "Dashboard\n",
    "---------\n",
    "\n",
    "Als nächstes müssen wir das Dashboard freischalten, damit wir von aussen darauf zugreifen können.\n",
    "\n",
    "Eingeloggt ins Dashboard wird mittels Token, diesen geben wir am Schluss aus.\n",
    "\n",
    "Mit der oben angezeigten IP-Adresse/URL und Port 30443 können wir dann auf das Dashboard wechseln."
   ]
  },
  {
   "cell_type": "code",
   "execution_count": null,
   "metadata": {},
   "outputs": [],
   "source": [
    "%%bash\n",
    "./kubectl delete service/kubernetes-dashboard -n kube-system\n",
    "./kubectl expose deployment/kubernetes-dashboard  --type=\"LoadBalancer\" --port 443 --target-port 8443 --namespace kube-system\n",
    "./kubectl patch --namespace kube-system service/kubernetes-dashboard  --patch '{\"spec\": { \"type\": \"LoadBalancer\", \"ports\": [ { \"nodePort\": 30443, \"port\": 443 } ] } }'\n",
    "token=$(./kubectl -n kube-system get secret | grep default-token | cut -d \" \" -f1) \n",
    "./kubectl -n kube-system describe secret $token"
   ]
  },
  {
   "cell_type": "code",
   "execution_count": null,
   "metadata": {},
   "outputs": [],
   "source": []
  }
 ],
 "metadata": {
  "kernelspec": {
   "display_name": "Python 3",
   "language": "python",
   "name": "python3"
  },
  "language_info": {
   "codemirror_mode": {
    "name": "ipython",
    "version": 3
   },
   "file_extension": ".py",
   "mimetype": "text/x-python",
   "name": "python",
   "nbconvert_exporter": "python",
   "pygments_lexer": "ipython3",
   "version": "3.6.6"
  }
 },
 "nbformat": 4,
 "nbformat_minor": 2
}
